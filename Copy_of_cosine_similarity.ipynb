{
  "nbformat": 4,
  "nbformat_minor": 0,
  "metadata": {
    "colab": {
      "name": "Copy of cosine_similarity.ipynb",
      "provenance": [],
      "include_colab_link": true
    },
    "kernelspec": {
      "name": "python3",
      "display_name": "Python 3"
    }
  },
  "cells": [
    {
      "cell_type": "markdown",
      "metadata": {
        "id": "view-in-github",
        "colab_type": "text"
      },
      "source": [
        "<a href=\"https://colab.research.google.com/github/ahmedshuvo969/quora-insincere-questions-classification/blob/master/Copy_of_cosine_similarity.ipynb\" target=\"_parent\"><img src=\"https://colab.research.google.com/assets/colab-badge.svg\" alt=\"Open In Colab\"/></a>"
      ]
    },
    {
      "cell_type": "code",
      "metadata": {
        "id": "PHdUE_WW_KF8",
        "colab_type": "code",
        "colab": {}
      },
      "source": [
        "import re\n",
        "import os\n",
        "import nltk\n",
        "import string\n",
        "import csv\n",
        "import pandas as pd\n",
        "import numpy as np\n",
        "import matplotlib.pyplot as plt\n",
        "import seaborn as sns"
      ],
      "execution_count": 0,
      "outputs": []
    },
    {
      "cell_type": "code",
      "metadata": {
        "id": "PJMQ10NOHmxZ",
        "colab_type": "code",
        "colab": {}
      },
      "source": [
        "train=pd.read_csv('train.csv')"
      ],
      "execution_count": 0,
      "outputs": []
    },
    {
      "cell_type": "code",
      "metadata": {
        "id": "zQH0t8YsH0sF",
        "colab_type": "code",
        "outputId": "afbf95ac-3ee1-40f2-99a6-2fd30dbc2292",
        "colab": {
          "base_uri": "https://localhost:8080/",
          "height": 301
        }
      },
      "source": [
        "sns.countplot(train['target'])"
      ],
      "execution_count": 0,
      "outputs": [
        {
          "output_type": "execute_result",
          "data": {
            "text/plain": [
              "<matplotlib.axes._subplots.AxesSubplot at 0x7fef6ccd5748>"
            ]
          },
          "metadata": {
            "tags": []
          },
          "execution_count": 5
        },
        {
          "output_type": "display_data",
          "data": {
            "image/png": "[encoded data removed]",
            "text/plain": [
              "<Figure size 432x288 with 1 Axes>"
            ]
          },
          "metadata": {
            "tags": []
          }
        }
      ]
    },
    {
      "cell_type": "code",
      "metadata": {
        "id": "nWYOFKncH5q-",
        "colab_type": "code",
        "outputId": "3bca5bf5-5080-468b-b0e4-d7556145529e",
        "colab": {
          "base_uri": "https://localhost:8080/",
          "height": 52
        }
      },
      "source": [
        "len_data = len(train['target'])\n",
        "count_sin = 0\n",
        "for i in range(len_data):\n",
        "    if train['target'][i] == 1:\n",
        "        count_sin += 1\n",
        "count_insin = len_data - count_sin\n",
        "\n",
        "print('percent of sincere is : ', (count_sin/len_data)*100)\n",
        "print('percent of insincere is : ', (count_insin/len_data)*100)"
      ],
      "execution_count": 0,
      "outputs": [
        {
          "output_type": "stream",
          "text": [
            "percent of sincere is :  6.187017751787352\n",
            "percent of insincere is :  93.81298224821265\n"
          ],
          "name": "stdout"
        }
      ]
    },
    {
      "cell_type": "code",
      "metadata": {
        "id": "ALTi23ikH_uU",
        "colab_type": "code",
        "outputId": "36d31269-c3e0-402d-aa26-b149e6a1e625",
        "colab": {
          "base_uri": "https://localhost:8080/",
          "height": 87
        }
      },
      "source": [
        "train.isnull().sum() #absent of missing value"
      ],
      "execution_count": 0,
      "outputs": [
        {
          "output_type": "execute_result",
          "data": {
            "text/plain": [
              "qid              0\n",
              "question_text    0\n",
              "target           0\n",
              "dtype: int64"
            ]
          },
          "metadata": {
            "tags": []
          },
          "execution_count": 7
        }
      ]
    },
    {
      "cell_type": "code",
      "metadata": {
        "id": "V_MB4Ie8Iunc",
        "colab_type": "code",
        "colab": {}
      },
      "source": [
        ""
      ],
      "execution_count": 0,
      "outputs": []
    },
    {
      "cell_type": "code",
      "metadata": {
        "id": "nsmVmEheICM9",
        "colab_type": "code",
        "outputId": "d676edd8-1706-4ab5-8cf3-2adf4943baf0",
        "colab": {
          "base_uri": "https://localhost:8080/",
          "height": 52
        }
      },
      "source": [
        "#for train corpus\n",
        "nltk.download('stopwords')\n",
        "from nltk.corpus import stopwords\n",
        "from nltk.stem.porter import PorterStemmer \n",
        "\n",
        "corpus = []\n",
        "for i in range(0, len_data):\n",
        "    review = re.sub('[^a-zA-Z]', ' ', train['question_text'][i])\n",
        "    review = review.lower()\n",
        "    review = review.split()\n",
        "    ps = PorterStemmer()\n",
        "    review = [ps.stem(word) for word in review if not word in set(stopwords.words('english'))]\n",
        "    review = ' '.join(review)\n",
        "    corpus.append(review)\n",
        "\n",
        "y_train = []    \n",
        "for i in range(0, len_data):\n",
        "    y_train.append(train['target'][i])"
      ],
      "execution_count": 0,
      "outputs": [
        {
          "output_type": "stream",
          "text": [
            "[nltk_data] Downloading package stopwords to /root/nltk_data...\n",
            "[nltk_data]   Unzipping corpora/stopwords.zip.\n"
          ],
          "name": "stdout"
        }
      ]
    },
    {
      "cell_type": "code",
      "metadata": {
        "id": "_ufwofYyVB0y",
        "colab_type": "code",
        "colab": {}
      },
      "source": [
        "from sklearn.model_selection import train_test_split\n",
        "xTrain, xTest, yTrain, yTest = train_test_split(corpus, y_train, test_size = 0.2, random_state = 0)"
      ],
      "execution_count": 0,
      "outputs": []
    },
    {
      "cell_type": "code",
      "metadata": {
        "id": "xa-uFufITPSV",
        "colab_type": "code",
        "colab": {}
      },
      "source": [
        "PosSet = []\n",
        "NegSet = []\n",
        "\n",
        "k = 0\n",
        "for i in xTrain:\n",
        "    m = i.split(\" \")\n",
        "    if yTrain[k] == 1: \n",
        "        for j in m:\n",
        "            PosSet.append(j)\n",
        "    else:\n",
        "        for j in m:\n",
        "            NegSet.append(j)\n",
        "    k = k+1\n",
        "\n",
        "\n",
        "PosSet = ' '.join(PosSet)\n",
        "NegSet = ' '.join(NegSet)\n",
        "\n",
        "\n",
        "\n",
        "doc = [PosSet, NegSet]"
      ],
      "execution_count": 0,
      "outputs": []
    },
    {
      "cell_type": "code",
      "metadata": {
        "id": "X32kucqzTkou",
        "colab_type": "code",
        "colab": {}
      },
      "source": [
        "\n",
        "from sklearn.feature_extraction.text import TfidfVectorizer\n",
        "vectorizer = TfidfVectorizer()\n",
        "matrix1 = vectorizer.fit_transform(doc)\n",
        "\n"
      ],
      "execution_count": 0,
      "outputs": []
    },
    {
      "cell_type": "code",
      "metadata": {
        "id": "PnVgYjbUVonK",
        "colab_type": "code",
        "colab": {}
      },
      "source": [
        "matrix2 = vectorizer.transform(xTest)"
      ],
      "execution_count": 0,
      "outputs": []
    },
    {
      "cell_type": "code",
      "metadata": {
        "id": "F_u7HEYzTi4I",
        "colab_type": "code",
        "colab": {}
      },
      "source": [
        "\n",
        "from sklearn.metrics.pairwise import cosine_similarity\n",
        "rel = cosine_similarity(matrix2, matrix1)"
      ],
      "execution_count": 0,
      "outputs": []
    },
    {
      "cell_type": "code",
      "metadata": {
        "id": "LyWo8hCwTbjV",
        "colab_type": "code",
        "colab": {}
      },
      "source": [
        "y_pred = []\n",
        "len_text_data = len(xTest)\n",
        "\n",
        "for i in range(0, len_text_data):\n",
        " \n",
        "  if rel[i][0]>rel[i][1]:\n",
        "      y_pred.append(1)\n",
        "  else:\n",
        "      y_pred.append(0)"
      ],
      "execution_count": 0,
      "outputs": []
    },
    {
      "cell_type": "code",
      "metadata": {
        "id": "DqfqGi3cWd67",
        "colab_type": "code",
        "outputId": "bdddfda3-17e1-45c1-b74f-50911368651f",
        "colab": {
          "base_uri": "https://localhost:8080/",
          "height": 52
        }
      },
      "source": [
        "\n",
        "from sklearn.metrics import confusion_matrix\n",
        "cm = confusion_matrix(yTest, y_pred)\n",
        "print(cm)"
      ],
      "execution_count": 0,
      "outputs": [
        {
          "output_type": "stream",
          "text": [
            "[[201242  43907]\n",
            " [  3749  12327]]\n"
          ],
          "name": "stdout"
        }
      ]
    },
    {
      "cell_type": "code",
      "metadata": {
        "id": "qRZpt2zyWnze",
        "colab_type": "code",
        "outputId": "15d5e02c-79cc-4bdc-a9a0-82e1ffe724f3",
        "colab": {
          "base_uri": "https://localhost:8080/",
          "height": 87
        }
      },
      "source": [
        "from sklearn.metrics import accuracy_score\n",
        "from sklearn.metrics import precision_score\n",
        "from sklearn.metrics import recall_score\n",
        "from sklearn.metrics import f1_score\n",
        "# accuracy: (tp + tn) / (p + n)\n",
        "accuracy = accuracy_score(yTest, y_pred)\n",
        "print('Accuracy: %f' % accuracy)\n",
        "# precision tp / (tp + fp)\n",
        "precision = precision_score(yTest, y_pred)\n",
        "print('Precision: %f' % precision)\n",
        "# recall: tp / (tp + fn)\n",
        "recall = recall_score(yTest, y_pred)\n",
        "print('Recall: %f' % recall)\n",
        "# f1: 2 tp / (2 tp + fp + fn)\n",
        "f1 = f1_score(yTest, y_pred)\n",
        "print('F1 score: %f' % f1)"
      ],
      "execution_count": 0,
      "outputs": [
        {
          "output_type": "stream",
          "text": [
            "Accuracy: 0.817567\n",
            "Precision: 0.219209\n",
            "Recall: 0.766795\n",
            "F1 score: 0.340949\n"
          ],
          "name": "stdout"
        }
      ]
    },
    {
      "cell_type": "code",
      "metadata": {
        "id": "Nncr8mo4XNyx",
        "colab_type": "code",
        "colab": {}
      },
      "source": [
        ""
      ],
      "execution_count": 0,
      "outputs": []
    }
  ]
}